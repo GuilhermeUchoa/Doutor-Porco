{
 "cells": [
  {
   "cell_type": "code",
   "execution_count": 15,
   "id": "8efc79dc",
   "metadata": {},
   "outputs": [
    {
     "name": "stdout",
     "output_type": "stream",
     "text": [
      "Requirement already satisfied: xlsxwriter in c:\\users\\guilh\\anaconda3\\lib\\site-packages (3.0.3)\n"
     ]
    }
   ],
   "source": [
    "import pandas as pd\n",
    "import numpy as np\n",
    "import seaborn as sns\n",
    "import plotly.express as px\n",
    "import warnings\n",
    "warnings.simplefilter(\"ignore\")\n",
    "import pandas_datareader as pdr\n"
   ]
  },
  {
   "cell_type": "code",
   "execution_count": 2,
   "id": "d93df90a",
   "metadata": {},
   "outputs": [],
   "source": [
    "df_fii_dadoHistorico_desempenho = pd.read_csv('df_fii_dadoHistorico_desempenho.csv')\n",
    "df_acao_dadoHistorico_desempenho = pd.read_csv('df_acao_dadoHistorico_desempenho.csv')"
   ]
  },
  {
   "cell_type": "code",
   "execution_count": 16,
   "id": "65266e77",
   "metadata": {},
   "outputs": [],
   "source": [
    "writer = pd.ExcelWriter('teste.xlsx', engine='xlsxwriter')"
   ]
  },
  {
   "cell_type": "code",
   "execution_count": 17,
   "id": "e1a771d8",
   "metadata": {},
   "outputs": [],
   "source": [
    "df_acao_dadoHistorico_desempenho.to_excel(writer,sheet_name='Guga2')\n",
    "df_fii_dadoHistorico_desempenho.to_excel(writer,sheet_name='Guga1')"
   ]
  },
  {
   "cell_type": "code",
   "execution_count": 18,
   "id": "e4058eaf",
   "metadata": {},
   "outputs": [],
   "source": [
    "writer.save()"
   ]
  },
  {
   "cell_type": "code",
   "execution_count": null,
   "id": "523f8245",
   "metadata": {},
   "outputs": [],
   "source": []
  }
 ],
 "metadata": {
  "kernelspec": {
   "display_name": "Python 3 (ipykernel)",
   "language": "python",
   "name": "python3"
  },
  "language_info": {
   "codemirror_mode": {
    "name": "ipython",
    "version": 3
   },
   "file_extension": ".py",
   "mimetype": "text/x-python",
   "name": "python",
   "nbconvert_exporter": "python",
   "pygments_lexer": "ipython3",
   "version": "3.9.12"
  }
 },
 "nbformat": 4,
 "nbformat_minor": 5
}
